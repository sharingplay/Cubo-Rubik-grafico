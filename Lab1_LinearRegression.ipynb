{
  "nbformat": 4,
  "nbformat_minor": 0,
  "metadata": {
    "colab": {
      "provenance": [],
      "toc_visible": true,
      "collapsed_sections": [
        "znkKHtnwQ_FK",
        "1rFVwQF06YDG"
      ],
      "include_colab_link": true
    },
    "kernelspec": {
      "name": "python3",
      "display_name": "Python 3"
    },
    "language_info": {
      "name": "python"
    }
  },
  "cells": [
    {
      "cell_type": "markdown",
      "metadata": {
        "id": "view-in-github",
        "colab_type": "text"
      },
      "source": [
        "<a href=\"https://colab.research.google.com/github/sharingplay/Cubo-Rubik-grafico/blob/master/Lab1_LinearRegression.ipynb\" target=\"_parent\"><img src=\"https://colab.research.google.com/assets/colab-badge.svg\" alt=\"Open In Colab\"/></a>"
      ]
    },
    {
      "cell_type": "markdown",
      "source": [
        "### Ejercicio 1"
      ],
      "metadata": {
        "id": "znkKHtnwQ_FK"
      }
    },
    {
      "cell_type": "code",
      "execution_count": 28,
      "metadata": {
        "id": "EXosLmSNNtzi"
      },
      "outputs": [],
      "source": [
        "# import libraries\n",
        "from sklearn.datasets import make_regression\n",
        "import matplotlib.pyplot as plt #for plotting\n",
        "import torch\n",
        "import numpy as np\n",
        "import math\n",
        "import pandas as pd\n",
        "from IPython.display import HTML\n"
      ]
    },
    {
      "cell_type": "code",
      "source": [
        "x = [1.25,1.28,1.27,1.21,1.22,1.29,1.3,1.24,1.27,1.29,1.25,1.28,1.27,1.21,1.22,1.29,1.3,1.24,1.27,1.29,1.25,1.28,1.27,1.21,1.22,1.29,1.3,1.24,1.27,1.29] #heights\n",
        "y = [32,33,34,30,32,35,34,32,32,35,33,35,34,30,33,34,35,32,33,33,33,34,34,31,32,34,34,31,35,34] #weights\n",
        "x_data = torch.tensor(x, dtype=torch.float64)\n",
        "y_data = torch.tensor(y, dtype=torch.float64)"
      ],
      "metadata": {
        "id": "3hLd6ygK9z80"
      },
      "execution_count": 16,
      "outputs": []
    },
    {
      "cell_type": "markdown",
      "source": [
        "#### Opcional"
      ],
      "metadata": {
        "id": "1rFVwQF06YDG"
      }
    },
    {
      "cell_type": "code",
      "source": [
        "N_SAMPLES = 100000 #number of samples\n",
        "N_FEATURES = 1 #number of features\n",
        "N_INFORMATIVE = 1 #number of useful features\n",
        "NOISE = 10 #bias and standard deviation of the guassian noise\n",
        "x, y, coef = make_regression(n_samples=N_SAMPLES,\n",
        "                            n_features=N_FEATURES,\n",
        "                            n_informative=N_INFORMATIVE, \n",
        "                            noise=NOISE,\n",
        "                            coef=True, # return the coefficients of the underlying linear model\n",
        "                            random_state=0) #set for same data points for each run\n",
        "\n",
        "# Scale feature x (students' height) to range [1.20, 1.40]\n",
        "x = np.interp(x, (x.min(), x.max()), (1.20, 1.40))\n",
        "x_t = np.transpose(x)[0]\n",
        "x_data = torch.tensor(x_t, dtype=torch.float64)\n",
        "\n",
        "# Scale target y (students' weight) to range [25,40] \n",
        "y = np.interp(y, (y.min(), y.max()), (25, 40))\n",
        "y_data = torch.tensor(y, dtype=torch.float64)\n"
      ],
      "metadata": {
        "id": "Y2SshxyqzW0U"
      },
      "execution_count": 4,
      "outputs": []
    },
    {
      "cell_type": "markdown",
      "source": [
        "### Ejercicio 2"
      ],
      "metadata": {
        "id": "obfDDQ-_2BMk"
      }
    },
    {
      "cell_type": "code",
      "source": [
        "def linearRegression (array_X,array_Y):\n",
        "  #x and y average\n",
        "  x_avg = torch.mean(array_X)\n",
        "  y_avg = torch.mean(array_Y)\n",
        "\n",
        "  #data needed to calculate b and a\n",
        "  xi_xm = torch.add(array_X, -(x_avg))\n",
        "  yi_ym = torch.add(array_Y, -(y_avg))\n",
        "\n",
        "  num = torch.mul(xi_xm,yi_ym)\n",
        "  den = torch.pow(xi_xm,2)\n",
        "\n",
        "  num_sum = torch.sum(num)\n",
        "  den_sum = torch.sum(den)\n",
        "\n",
        "  #Linear regression y = a + bx\n",
        "  #b calculation\n",
        "  b = num_sum / den_sum\n",
        "  #a calculation\n",
        "  a = y_avg - (b*x_avg)\n",
        "  \n",
        "  return (a,b)\n",
        "\n",
        "a, b = linearRegression(x_data, y_data)\n",
        "print(f'a = {a}')\n",
        "print(f'b = {b}')"
      ],
      "metadata": {
        "id": "GCP-Mm6K2GaV",
        "colab": {
          "base_uri": "https://localhost:8080/"
        },
        "outputId": "29663727-5d73-4fde-f862-9d3441520d53"
      },
      "execution_count": 7,
      "outputs": [
        {
          "output_type": "stream",
          "name": "stdout",
          "text": [
            "a = -17.71417445482861\n",
            "b = 40.264797507788124\n"
          ]
        }
      ]
    },
    {
      "cell_type": "markdown",
      "source": [
        "### Ejercicio 3"
      ],
      "metadata": {
        "id": "h_GEeB5w_I4r"
      }
    },
    {
      "cell_type": "markdown",
      "source": [
        "\n",
        "\n",
        "#### a. Explicación del cálculo y la fórmula\n",
        "\n",
        "El **coeficiente de Pearson** o coeficiente de correlación lineal es una medida estadística usada para determinar la relación entre dos variables estudiadas.\n",
        "\n",
        "Para calcular el coeficiente de correlación de Pearson entre dos variables, se debe *dividir la covarianza de dichas variables por la raíz cuadrada del producto de sus varianzas*; es decir:\n",
        "\n",
        "\\\\\n",
        "\\begin{align}\n",
        "\\rho = \\frac{cov(x,y)}{\\sqrt{var(x) \\cdot var(y)}},\n",
        "\\end{align}\n",
        "\n",
        "\\\\\n",
        "\n",
        "donde, las funciones de covarianza **cov** y varianza **var** se definen como:\n",
        "\n",
        "\\begin{align}\n",
        "  cov(x,y)=\\frac{\\sum\\limits_{i=1}^{n} (x_i - \\bar{x})(y_i - \\bar{y})}{n-1}\\\\\n",
        "\\end{align}\n",
        "\n",
        "\\begin{align}\n",
        "  var(x)=\\frac{\\sum\\limits_{i=1}^{n} (x_i - \\bar{x})^2}{n-1}\\\\\n",
        "\\end{align}\n",
        "\n",
        "\\begin{align}\n",
        "  var(y)=\\frac{\\sum\\limits_{i=1}^{n} (y_i - \\bar{y})^2}{n-1}\\\\\n",
        "\\end{align}\n",
        "\n",
        "\\\\\n",
        "El coeficiente de correlación de Pearson trata de cuantificar la dependencia lineal entre dos variables aleatorias cuantitativas. Valorar numéricamente la correlación entre dos variables es complicado porque resulta difícil determinar qué pareja de variables está más correlacionada entre sí, así pues, el objetivo de coeficiente de correlación de Pearson es dar un valor a la relación entre variables para luego poder comparar entre ellas.\n",
        "\n",
        "\n",
        "\n",
        "\n",
        "\n",
        "\n",
        "\n",
        "\n",
        "\n",
        "\n",
        "\n"
      ],
      "metadata": {
        "id": "Sd2Uc_mc_NBe"
      }
    },
    {
      "cell_type": "markdown",
      "source": [
        "#### b. Desarrollo del cálculo para el set de datos"
      ],
      "metadata": {
        "id": "fdPre6K-7M8K"
      }
    },
    {
      "cell_type": "code",
      "source": [
        "def getPearsonCoeff(x : torch.Tensor, y: torch.Tensor) -> float:\n",
        "  variables = torch.tensor([x.tolist(), y.tolist()])\n",
        "  covariance_matrix = torch.cov(variables)\n",
        "  covariance = covariance_matrix[0][1]\n",
        "  variance_x = covariance_matrix[0][0]\n",
        "  variance_y = covariance_matrix[1][1]\n",
        "  rho = covariance / math.sqrt(variance_x*variance_y)\n",
        "  return rho.tolist()\n",
        "\n",
        "r = getPearsonCoeff(x_data, y_data)\n",
        "print(f'r = {r}')"
      ],
      "metadata": {
        "colab": {
          "base_uri": "https://localhost:8080/"
        },
        "id": "7kIVN6hw7bU9",
        "outputId": "60f5721e-0907-43c0-a242-d081a319c130"
      },
      "execution_count": null,
      "outputs": [
        {
          "output_type": "stream",
          "name": "stdout",
          "text": [
            "r = 0.8281876444816589\n"
          ]
        }
      ]
    },
    {
      "cell_type": "markdown",
      "source": [
        "#### c. Comprobación de linealidad\n",
        "\n",
        "Se sabe que el valor del coeficiente de Pearson estará siempre dentro del rango $[-1,1]$. Dependiendo del valor que tenga el coeficiente, este se puede interpretar de diferentes formas:\n",
        "\n",
        "\n",
        "1.   $\\rho = -1$ : las dos variables tienen una correlación negativa perfecta. Es decir, se puede trazar una recta con pendiente negativa que toque todos los puntos.\n",
        "\n",
        "2.   $-1<\\rho<0$: la correlación entre las dos variables es negativa, por lo tanto, cuando una variable aumenta, la otra disminuye. Cuanto más cerca esté del valor de -1, mayor es la relación negativa entre las variables.\n",
        "\n",
        "3. $\\rho=0$: la relación lineal entre las variables es nula. Esto no quiere decir que las variables sean independientes, ya que pueden tener una relación no lineal entre ellas.\n",
        "\n",
        "4. $0<\\rho<1$: la correlación entre las dos variables es positiva, por lo que una variable tiende a aumentar su valor cuando la otra también se incremente. Cuando más cerca esté el valor de 1, mayor será la relación entre ellas.\n",
        "\n",
        "5. $\\rho = -1$ : las dos variables tienen una correlación positiva perfecta, es decir, tienen una relación lineal positiva.\n",
        "\n",
        "\\\\\n",
        "De esta forma, para el caso del set de datos de la presentación vista en clase, el coeficiente de correlación lineal es aproximadamente de $0,8282$. Este valor es cercano a 1, lo que indica que la correlación entre las variables de estatura y el peso de los estudiantes es positiva. Por lo tanto, la tendencia es que si la variable de estatura aumenta, la del peso también lo hará.\n",
        "\n",
        "\n"
      ],
      "metadata": {
        "id": "6x_1W9CYfSoK"
      }
    },
    {
      "cell_type": "markdown",
      "source": [
        "### Ejercicio 4"
      ],
      "metadata": {
        "id": "qkOvIRj8b_w-"
      }
    },
    {
      "cell_type": "code",
      "source": [
        "def plotData(x: list, y: list, xLabel: str, xUnits: str, yLabel: str, yUnits: str):\n",
        "  # Plotting data\n",
        "  plt.ion() #interactive plot on\n",
        "  plt.plot(x,y,'.',label='observations')\n",
        "  plt.xlabel(f'{xLabel} ({xUnits})');plt.ylabel(f'{yLabel} ({yUnits})')\n",
        "  plt.grid()\n",
        "  plt.title(f'{xLabel} vs {yLabel}')\n",
        "\n",
        "plotData(x,y,'Height', 'cm', 'Weight', 'kg')"
      ],
      "metadata": {
        "colab": {
          "base_uri": "https://localhost:8080/",
          "height": 295
        },
        "id": "cS3386u14SeM",
        "outputId": "248d049a-406b-487f-a34d-64a3b6c09ee3"
      },
      "execution_count": null,
      "outputs": [
        {
          "output_type": "display_data",
          "data": {
            "text/plain": [
              "<Figure size 432x288 with 1 Axes>"
            ],
            "image/png": "[encoded data removed]"
          },
          "metadata": {
            "needs_background": "light"
          }
        }
      ]
    },
    {
      "cell_type": "markdown",
      "source": [
        "### Ejercicio 5"
      ],
      "metadata": {
        "id": "-pR7ATsifYeA"
      }
    },
    {
      "cell_type": "code",
      "source": [
        "def plotDataLinearReg(x: list, y: list, xLabel: str, xUnits: str, yLabel: str, yUnits: str, a: torch.Tensor, b: torch.Tensor):\n",
        "  # Plotting data\n",
        "  plt.ion() #interactive plot on\n",
        "  plt.plot(x,y,'.',label='observations')\n",
        "  min_x = np.min(x)\n",
        "  max_x = np.max(x)\n",
        "  x = np.linspace(min_x,max_x,100)\n",
        "  y = a + b*x\n",
        "  plt.plot(x, y, '-r', label=('y=%.2fx+ %.2f' % (b,a)))\n",
        "  plt.xlabel(f'{xLabel} ({xUnits})');plt.ylabel(f'{yLabel} ({yUnits})')\n",
        "  plt.legend(loc='upper left')\n",
        "  plt.grid()\n",
        "  plt.title(f'{xLabel} vs {yLabel}')\n",
        "\n",
        "plotDataLinearReg(x,y,'Height', 'cm', 'Weight', 'kg', a, b)"
      ],
      "metadata": {
        "colab": {
          "base_uri": "https://localhost:8080/",
          "height": 295
        },
        "id": "L1RrUjeqfc-z",
        "outputId": "a98c9f3c-4ff0-4f6c-a8d9-bd7a4280f6df"
      },
      "execution_count": null,
      "outputs": [
        {
          "output_type": "display_data",
          "data": {
            "text/plain": [
              "<Figure size 432x288 with 1 Axes>"
            ],
            "image/png": "[encoded data removed]"
          },
          "metadata": {
            "needs_background": "light"
          }
        }
      ]
    },
    {
      "cell_type": "markdown",
      "source": [
        "### Ejercicio 6"
      ],
      "metadata": {
        "id": "3EMJHPBDrYy_"
      }
    },
    {
      "cell_type": "code",
      "source": [
        "#First 6 values appear in the first exercise, the rest are different values in a range from 1.16 to 1.34\n",
        "x = [1.25,1.28,1.27,1.21,1.22,1.29,1.24,1.26,1.23,1.24,1.30,1.31,1.20,1.19,1.18,1.32,1.33,1.17,1.16,1.34]\n",
        "x_data = torch.tensor(x, dtype=torch.float64)\n",
        "#We use the 'a' and 'b' obtained in exercise 1 for the initial data\n",
        "a = -17.71417445482861\n",
        "b = 40.264797507788124\n",
        "#Using linear regression to preddict the 'y' results\n",
        "y = torch.mul(x_data,b)\n",
        "y = torch.add(y,a)\n",
        "\n",
        "#Creating the table to display data with pandas library\n",
        "y = np.array(y.tolist())\n",
        "datos = np.stack((x,y),axis = -1) #unifiying both arrays into one\n",
        "df = pd.DataFrame(data = datos, columns = ['Alturas (m)','Predicciones de pesos (kg)'])\n",
        "display(df)\n",
        "\n",
        "#changing colors of the data frame\n",
        "def formatear_fila(row):\n",
        "    html = '<tr>'\n",
        "    for col in row.index:\n",
        "        valor = row[col]\n",
        "        html += f'<td>{valor}</td>'\n",
        "    html += '</tr>'\n",
        "    return html\n",
        "\n",
        "# Generate HTML table\n",
        "html = '<table>'\n",
        "html += '<tr><th>Alturas (m)</th><th>Predicciones de pesos (kg)</th></tr>'\n",
        "for i, row in df.iterrows():\n",
        "    if i < 6:\n",
        "        html += '<tr style=\"background-color: #37DCE4;\">'\n",
        "    else:\n",
        "        html += '<tr>'\n",
        "    html += formatear_fila(row)\n",
        "    html += '</tr>'\n",
        "html += '</table>'\n",
        "\n",
        "# Mostrar la tabla en el notebook\n",
        "display(HTML(html))\n"
      ],
      "metadata": {
        "colab": {
          "base_uri": "https://localhost:8080/",
          "height": 1000
        },
        "id": "KNaV3U_frhty",
        "outputId": "f508b1a0-9a96-479b-e348-240f922266cf"
      },
      "execution_count": 32,
      "outputs": [
        {
          "output_type": "display_data",
          "data": {
            "text/plain": [
              "    Alturas (m)  Predicciones de pesos (kg)\n",
              "0          1.25                   32.616822\n",
              "1          1.28                   33.824766\n",
              "2          1.27                   33.422118\n",
              "3          1.21                   31.006231\n",
              "4          1.22                   31.408879\n",
              "5          1.29                   34.227414\n",
              "6          1.24                   32.214174\n",
              "7          1.26                   33.019470\n",
              "8          1.23                   31.811526\n",
              "9          1.24                   32.214174\n",
              "10         1.30                   34.630062\n",
              "11         1.31                   35.032710\n",
              "12         1.20                   30.603583\n",
              "13         1.19                   30.200935\n",
              "14         1.18                   29.798287\n",
              "15         1.32                   35.435358\n",
              "16         1.33                   35.838006\n",
              "17         1.17                   29.395639\n",
              "18         1.16                   28.992991\n",
              "19         1.34                   36.240654"
            ],
            "text/html": [
              "\n",
              "  <div id=\"df-e7eddc07-7a2a-47a2-86b4-4cb3b88adc79\">\n",
              "    <div class=\"colab-df-container\">\n",
              "      <div>\n",
              "<style scoped>\n",
              "    .dataframe tbody tr th:only-of-type {\n",
              "        vertical-align: middle;\n",
              "    }\n",
              "\n",
              "    .dataframe tbody tr th {\n",
              "        vertical-align: top;\n",
              "    }\n",
              "\n",
              "    .dataframe thead th {\n",
              "        text-align: right;\n",
              "    }\n",
              "</style>\n",
              "<table border=\"1\" class=\"dataframe\">\n",
              "  <thead>\n",
              "    <tr style=\"text-align: right;\">\n",
              "      <th></th>\n",
              "      <th>Alturas (m)</th>\n",
              "      <th>Predicciones de pesos (kg)</th>\n",
              "    </tr>\n",
              "  </thead>\n",
              "  <tbody>\n",
              "    <tr>\n",
              "      <th>0</th>\n",
              "      <td>1.25</td>\n",
              "      <td>32.616822</td>\n",
              "    </tr>\n",
              "    <tr>\n",
              "      <th>1</th>\n",
              "      <td>1.28</td>\n",
              "      <td>33.824766</td>\n",
              "    </tr>\n",
              "    <tr>\n",
              "      <th>2</th>\n",
              "      <td>1.27</td>\n",
              "      <td>33.422118</td>\n",
              "    </tr>\n",
              "    <tr>\n",
              "      <th>3</th>\n",
              "      <td>1.21</td>\n",
              "      <td>31.006231</td>\n",
              "    </tr>\n",
              "    <tr>\n",
              "      <th>4</th>\n",
              "      <td>1.22</td>\n",
              "      <td>31.408879</td>\n",
              "    </tr>\n",
              "    <tr>\n",
              "      <th>5</th>\n",
              "      <td>1.29</td>\n",
              "      <td>34.227414</td>\n",
              "    </tr>\n",
              "    <tr>\n",
              "      <th>6</th>\n",
              "      <td>1.24</td>\n",
              "      <td>32.214174</td>\n",
              "    </tr>\n",
              "    <tr>\n",
              "      <th>7</th>\n",
              "      <td>1.26</td>\n",
              "      <td>33.019470</td>\n",
              "    </tr>\n",
              "    <tr>\n",
              "      <th>8</th>\n",
              "      <td>1.23</td>\n",
              "      <td>31.811526</td>\n",
              "    </tr>\n",
              "    <tr>\n",
              "      <th>9</th>\n",
              "      <td>1.24</td>\n",
              "      <td>32.214174</td>\n",
              "    </tr>\n",
              "    <tr>\n",
              "      <th>10</th>\n",
              "      <td>1.30</td>\n",
              "      <td>34.630062</td>\n",
              "    </tr>\n",
              "    <tr>\n",
              "      <th>11</th>\n",
              "      <td>1.31</td>\n",
              "      <td>35.032710</td>\n",
              "    </tr>\n",
              "    <tr>\n",
              "      <th>12</th>\n",
              "      <td>1.20</td>\n",
              "      <td>30.603583</td>\n",
              "    </tr>\n",
              "    <tr>\n",
              "      <th>13</th>\n",
              "      <td>1.19</td>\n",
              "      <td>30.200935</td>\n",
              "    </tr>\n",
              "    <tr>\n",
              "      <th>14</th>\n",
              "      <td>1.18</td>\n",
              "      <td>29.798287</td>\n",
              "    </tr>\n",
              "    <tr>\n",
              "      <th>15</th>\n",
              "      <td>1.32</td>\n",
              "      <td>35.435358</td>\n",
              "    </tr>\n",
              "    <tr>\n",
              "      <th>16</th>\n",
              "      <td>1.33</td>\n",
              "      <td>35.838006</td>\n",
              "    </tr>\n",
              "    <tr>\n",
              "      <th>17</th>\n",
              "      <td>1.17</td>\n",
              "      <td>29.395639</td>\n",
              "    </tr>\n",
              "    <tr>\n",
              "      <th>18</th>\n",
              "      <td>1.16</td>\n",
              "      <td>28.992991</td>\n",
              "    </tr>\n",
              "    <tr>\n",
              "      <th>19</th>\n",
              "      <td>1.34</td>\n",
              "      <td>36.240654</td>\n",
              "    </tr>\n",
              "  </tbody>\n",
              "</table>\n",
              "</div>\n",
              "      <button class=\"colab-df-convert\" onclick=\"convertToInteractive('df-e7eddc07-7a2a-47a2-86b4-4cb3b88adc79')\"\n",
              "              title=\"Convert this dataframe to an interactive table.\"\n",
              "              style=\"display:none;\">\n",
              "        \n",
              "  <svg xmlns=\"http://www.w3.org/2000/svg\" height=\"24px\"viewBox=\"0 0 24 24\"\n",
              "       width=\"24px\">\n",
              "    <path d=\"M0 0h24v24H0V0z\" fill=\"none\"/>\n",
              "    <path d=\"M18.56 5.44l.94 2.06.94-2.06 2.06-.94-2.06-.94-.94-2.06-.94 2.06-2.06.94zm-11 1L8.5 8.5l.94-2.06 2.06-.94-2.06-.94L8.5 2.5l-.94 2.06-2.06.94zm10 10l.94 2.06.94-2.06 2.06-.94-2.06-.94-.94-2.06-.94 2.06-2.06.94z\"/><path d=\"M17.41 7.96l-1.37-1.37c-.4-.4-.92-.59-1.43-.59-.52 0-1.04.2-1.43.59L10.3 9.45l-7.72 7.72c-.78.78-.78 2.05 0 2.83L4 21.41c.39.39.9.59 1.41.59.51 0 1.02-.2 1.41-.59l7.78-7.78 2.81-2.81c.8-.78.8-2.07 0-2.86zM5.41 20L4 18.59l7.72-7.72 1.47 1.35L5.41 20z\"/>\n",
              "  </svg>\n",
              "      </button>\n",
              "      \n",
              "  <style>\n",
              "    .colab-df-container {\n",
              "      display:flex;\n",
              "      flex-wrap:wrap;\n",
              "      gap: 12px;\n",
              "    }\n",
              "\n",
              "    .colab-df-convert {\n",
              "      background-color: #E8F0FE;\n",
              "      border: none;\n",
              "      border-radius: 50%;\n",
              "      cursor: pointer;\n",
              "      display: none;\n",
              "      fill: #1967D2;\n",
              "      height: 32px;\n",
              "      padding: 0 0 0 0;\n",
              "      width: 32px;\n",
              "    }\n",
              "\n",
              "    .colab-df-convert:hover {\n",
              "      background-color: #E2EBFA;\n",
              "      box-shadow: 0px 1px 2px rgba(60, 64, 67, 0.3), 0px 1px 3px 1px rgba(60, 64, 67, 0.15);\n",
              "      fill: #174EA6;\n",
              "    }\n",
              "\n",
              "    [theme=dark] .colab-df-convert {\n",
              "      background-color: #3B4455;\n",
              "      fill: #D2E3FC;\n",
              "    }\n",
              "\n",
              "    [theme=dark] .colab-df-convert:hover {\n",
              "      background-color: #434B5C;\n",
              "      box-shadow: 0px 1px 3px 1px rgba(0, 0, 0, 0.15);\n",
              "      filter: drop-shadow(0px 1px 2px rgba(0, 0, 0, 0.3));\n",
              "      fill: #FFFFFF;\n",
              "    }\n",
              "  </style>\n",
              "\n",
              "      <script>\n",
              "        const buttonEl =\n",
              "          document.querySelector('#df-e7eddc07-7a2a-47a2-86b4-4cb3b88adc79 button.colab-df-convert');\n",
              "        buttonEl.style.display =\n",
              "          google.colab.kernel.accessAllowed ? 'block' : 'none';\n",
              "\n",
              "        async function convertToInteractive(key) {\n",
              "          const element = document.querySelector('#df-e7eddc07-7a2a-47a2-86b4-4cb3b88adc79');\n",
              "          const dataTable =\n",
              "            await google.colab.kernel.invokeFunction('convertToInteractive',\n",
              "                                                     [key], {});\n",
              "          if (!dataTable) return;\n",
              "\n",
              "          const docLinkHtml = 'Like what you see? Visit the ' +\n",
              "            '<a target=\"_blank\" href=https://colab.research.google.com/notebooks/data_table.ipynb>data table notebook</a>'\n",
              "            + ' to learn more about interactive tables.';\n",
              "          element.innerHTML = '';\n",
              "          dataTable['output_type'] = 'display_data';\n",
              "          await google.colab.output.renderOutput(dataTable, element);\n",
              "          const docLink = document.createElement('div');\n",
              "          docLink.innerHTML = docLinkHtml;\n",
              "          element.appendChild(docLink);\n",
              "        }\n",
              "      </script>\n",
              "    </div>\n",
              "  </div>\n",
              "  "
            ]
          },
          "metadata": {}
        },
        {
          "output_type": "display_data",
          "data": {
            "text/plain": [
              "<IPython.core.display.HTML object>"
            ],
            "text/html": [
              "<table><tr><th>Alturas (m)</th><th>Predicciones de pesos (kg)</th></tr><tr style=\"background-color: #37DCE4;\"><tr><td>1.25</td><td>32.61682242990655</td></tr></tr><tr style=\"background-color: #37DCE4;\"><tr><td>1.28</td><td>33.82476635514019</td></tr></tr><tr style=\"background-color: #37DCE4;\"><tr><td>1.27</td><td>33.42211838006231</td></tr></tr><tr style=\"background-color: #37DCE4;\"><tr><td>1.21</td><td>31.006230529595022</td></tr></tr><tr style=\"background-color: #37DCE4;\"><tr><td>1.22</td><td>31.4088785046729</td></tr></tr><tr style=\"background-color: #37DCE4;\"><tr><td>1.29</td><td>34.227414330218075</td></tr></tr><tr><tr><td>1.24</td><td>32.214174454828665</td></tr></tr><tr><tr><td>1.26</td><td>33.01947040498443</td></tr></tr><tr><tr><td>1.23</td><td>31.811526479750782</td></tr></tr><tr><tr><td>1.24</td><td>32.214174454828665</td></tr></tr><tr><tr><td>1.3</td><td>34.63006230529596</td></tr></tr><tr><tr><td>1.31</td><td>35.032710280373834</td></tr></tr><tr><tr><td>1.2</td><td>30.60358255451714</td></tr></tr><tr><tr><td>1.19</td><td>30.200934579439256</td></tr></tr><tr><tr><td>1.18</td><td>29.798286604361373</td></tr></tr><tr><tr><td>1.32</td><td>35.43535825545172</td></tr></tr><tr><tr><td>1.33</td><td>35.8380062305296</td></tr></tr><tr><tr><td>1.17</td><td>29.395638629283496</td></tr></tr><tr><tr><td>1.16</td><td>28.992990654205613</td></tr></tr><tr><tr><td>1.34</td><td>36.240654205607484</td></tr></tr></table>"
            ]
          },
          "metadata": {}
        }
      ]
    },
    {
      "cell_type": "markdown",
      "source": [],
      "metadata": {
        "id": "kNwjKgJKwl0M"
      }
    }
  ]
}